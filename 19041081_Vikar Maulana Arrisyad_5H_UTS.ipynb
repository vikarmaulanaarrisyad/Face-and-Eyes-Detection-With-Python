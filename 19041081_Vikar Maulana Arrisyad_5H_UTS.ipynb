{
 "cells": [
  {
   "cell_type": "markdown",
   "id": "5cfa60f3",
   "metadata": {},
   "source": [
    "# 1. Video Capture Dengan Objek Sendiri"
   ]
  },
  {
   "cell_type": "code",
   "execution_count": 12,
   "id": "1cc32015",
   "metadata": {},
   "outputs": [],
   "source": [
    "import cv2 # Library Opencv\n",
    "\n",
    "webcame = cv2.VideoCapture(0) #  Perintah Untuk menangkap video\n",
    "\n",
    "# Mengubah Ukuran WebCame\n",
    "webcame.set(3,640) # Seting Lebar dari Webcame\n",
    "webcame.set(4,480) # Seting Tinggi dari Webcame\n",
    "\n",
    "# Membuat File video  dengan perintah : \n",
    "fourcc = cv2.VideoWriter_fourcc(*'XVID')\n",
    "out = cv2.VideoWriter('19041081.avi',fourcc, 20.0, (640,480))\n",
    "\n",
    "\n",
    "while True:\n",
    "    # Capture frame-by-frame\n",
    "    ret, frame = webcame.read()\n",
    "    \n",
    "    out.write(frame) # Membuat frame per fps\n",
    "     \n",
    "    gray = cv2.cvtColor(frame, cv2.COLOR_BGR2GRAY) # Menggunakan Color untuk memberikan sebuah warna\n",
    "    \n",
    "    # Menampilkan webcame/frame dengan perintah :\n",
    "    cv2.imshow('Webcame', frame) # Frame yang asli atau belum di ubah warnanya\n",
    "    cv2.imshow('Grey', gray) # Frame berwarna gray\n",
    "    k = cv2.waitKey(1) & 0xFF\n",
    "    if  k == 27 or k== ord('s'):\n",
    "        break\n",
    "\n",
    "out.release()\n",
    "webcame.release() # Perintah release digunakan setelah perulangan selesai\n",
    "\n",
    "cv2.destroyAllWindows() # Perintah destroy untuk menghapus sampah pada memori setelah release\n",
    "    \n",
    "    "
   ]
  },
  {
   "cell_type": "markdown",
   "id": "2ce32735",
   "metadata": {},
   "source": [
    "# 2. Face Detection objek dari hasil video capture"
   ]
  },
  {
   "cell_type": "code",
   "execution_count": 11,
   "id": "db2b1334",
   "metadata": {},
   "outputs": [],
   "source": [
    "import cv2 # Library Opencv\n",
    "\n",
    "faceDetector = cv2.CascadeClassifier('haarcascades/haarcascade.xml') # Memanggil File Algoritma Haarcascade\n",
    "\n",
    "webcame = cv2.VideoCapture(0) #  Perintah Untuk menangkap video\n",
    "\n",
    "# Mengubah Ukuran WebCame\n",
    "webcame.set(3,640) # Seting Lebar dari Webcame\n",
    "webcame.set(4,480) # Seting Tinggi dari Webcame\n",
    "\n",
    "# Membuat File video  dengan perintah : \n",
    "fourcc = cv2.VideoWriter_fourcc(*'XVID')\n",
    "out = cv2.VideoWriter('Vikar Maualana.avi',fourcc, 20.0, (640,480))\n",
    "\n",
    "\n",
    "while True:\n",
    "    # Capture frame-by-frame\n",
    "    ret, frame = webcame.read()\n",
    "     \n",
    "    gray = cv2.cvtColor(frame, cv2.COLOR_BGR2GRAY) # Menggunakan Color untuk memberikan sebuah warna\n",
    "    \n",
    "    faces = faceDetector.detectMultiScale(gray,1.3,5)\n",
    "    \n",
    "    for (x,y, w, h) in faces:\n",
    "        # Membuat Rectangle        point atas, sudut,  warna, tebal kotak\n",
    "        frame = cv2.rectangle(frame, (x,y), (x+w, y+h), (0,0,255),2)\n",
    "        gray = cv2.rectangle(gray, (x,y), (x+w, y+h), (0,0,255),2)\n",
    "        \n",
    "        out.write(frame) # Membuat frame per fps\n",
    "    \n",
    "    # Menampilkan webcame/frame dengan perintah :\n",
    "    cv2.imshow('Webcame', frame) # Frame yang asli atau belum di ubah warnanya\n",
    "    cv2.imshow('Grey', gray) # Frame berwarna gray\n",
    "    k = cv2.waitKey(1) & 0xFF\n",
    "    if  k == 27 or k== ord('s'):\n",
    "        break\n",
    "\n",
    "out.release()\n",
    "webcame.release() # Perintah release digunakan setelah perulangan selesai\n",
    "\n",
    "cv2.destroyAllWindows() # Perintah destroy untuk menghapus sampah pada memori setelah release\n",
    "    \n",
    "    "
   ]
  },
  {
   "cell_type": "markdown",
   "id": "490d19fe",
   "metadata": {},
   "source": [
    "# 3. Face & Eyes Detection dengan Objek  foto Kelompok"
   ]
  },
  {
   "cell_type": "code",
   "execution_count": 14,
   "id": "b9407ce9",
   "metadata": {},
   "outputs": [],
   "source": [
    "import cv2 # Library Opencv\n",
    "\n",
    "#============================ Memanggil File Algoritma Haarcascade ================\n",
    "\n",
    "face = cv2.CascadeClassifier('haarcascades/haarcascade.xml') \n",
    "eye  = cv2.CascadeClassifier('haarcascades/haarcascade_eye.xml')\n",
    "\n",
    "#================================================================================\n",
    "\n",
    "img = cv2.imread('kelompok.jpeg') # Memanggil/Membaca FIle gambar\n",
    "gray = cv2.cvtColor(img, cv2.COLOR_BGR2GRAY) # Mengubah Warna\n",
    "\n",
    "faces = face.detectMultiScale(gray, 1.3, 5)\n",
    "for (x,y,w,h) in faces:\n",
    "     # Membuat Rectangle     point atas, sudut,  warna, tebal kotak\n",
    "    img = cv2.rectangle(img, (x,y),(x+w, y+h),(255,255,0),2)\n",
    "    \n",
    "    roi_gray = gray[y:y+h, x:x+w]\n",
    "    roi_color = img[y:y+h, x:x+w]\n",
    "    \n",
    "    eyes = eye.detectMultiScale(roi_gray)\n",
    "    \n",
    "    for (ex, ey, ew, eh) in eyes:\n",
    "        # Membuat Rectangle     point atas, sudut,  warna, tebal kotak\n",
    "        cv2.rectangle(roi_color,(ex,ey), (ex+ew, ey+eh),(0,255,0),2)\n",
    "        \n",
    "cv2.imshow('Gambar', img)\n",
    "cv2.waitKey(0)\n",
    "cv2.destroyAllWindows()"
   ]
  },
  {
   "cell_type": "code",
   "execution_count": null,
   "id": "da44abec",
   "metadata": {},
   "outputs": [],
   "source": []
  }
 ],
 "metadata": {
  "kernelspec": {
   "display_name": "Python 3 (ipykernel)",
   "language": "python",
   "name": "python3"
  },
  "language_info": {
   "codemirror_mode": {
    "name": "ipython",
    "version": 3
   },
   "file_extension": ".py",
   "mimetype": "text/x-python",
   "name": "python",
   "nbconvert_exporter": "python",
   "pygments_lexer": "ipython3",
   "version": "3.8.11"
  }
 },
 "nbformat": 4,
 "nbformat_minor": 5
}
