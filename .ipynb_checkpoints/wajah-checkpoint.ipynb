{
 "cells": [
  {
   "cell_type": "markdown",
   "id": "26a99e5f",
   "metadata": {},
   "source": [
    "# FaceDetection Wajah Dengan Algoritma Haarcascade"
   ]
  },
  {
   "cell_type": "code",
   "execution_count": 1,
   "id": "0cdee928",
   "metadata": {},
   "outputs": [],
   "source": [
    "# Import Library dari opencv\n",
    "import cv2 as cv\n",
    "\n",
    "# =========================================Seting Camera Webcame============================================ #\n",
    "\n",
    "# Membuat Sebuah Variabel Kamera untuk menampung perintah dari VideoCapture\n",
    "# Menggunakan index 0 karena webcame yang ada di leptop saya hanya memiliki 1 kamera\n",
    "cam = cv.VideoCapture(0)\n",
    "\n",
    "# Mengubah Camera WebCame\n",
    "# Lebar\n",
    "cam.set(3,640)\n",
    "# Tinggi\n",
    "cam.set(4,480)\n",
    "\n",
    "# ========================================================================================================== #\n",
    "\n",
    "\n",
    "# =======================================Seting Algoritma Haarcascade========================================================== #\n",
    "# Memanggil Detektor , dengan algoritma Haarcascade\n",
    "# Membuat Variabel untuk menampung dari file algoritma\n",
    "faceDetector = cv.CascadeClassifier('haarcascades/haarcascade_frontalface_default.xml')\n",
    "\n",
    "# ========================================================================================================== #\n",
    "while True:\n",
    "    # Perintah untuk menangkap camera WebCame kita. jika ada gambar maka frame akan menampilkannya\n",
    "    # jika tidak akan ada gambar maka retV bernilai false\n",
    "    retV, frame = cam.read()\n",
    "    \n",
    "    # Mengubah framenya menjadi berwarna\n",
    "    # Membuat Variabel AbuAbu\n",
    "    # Frame mana yang akan diubah menjadi abuabu dan kasih warnanya\n",
    "    AbuAbu = cv.cvtColor(frame,cv.COLOR_BGR2GRAY)\n",
    "    \n",
    "    \n",
    "    # Untuk Mendeteksi wajahnya maka dimasukkan ke variabel faces\n",
    "    # Membutuhkan ScaleFaktor \n",
    "    faces = faceDetector.detectMultiScale(AbuAbu,1.3,5)\n",
    "    \n",
    "    for (x,y, w, h) in faces:\n",
    "        # Membuat Rectangle        point atas, sudut,  warna, tebal kotak\n",
    "        frame = cv.rectangle(frame, (x,y), (x+w, y+h), (0,0,255),2)\n",
    "    \n",
    "    # untuk membuka camera webcame\n",
    "    cv.imshow('WebCamera',frame)\n",
    "#     cv.imshow('AbuAbu',AbuAbu)\n",
    "    \n",
    "    # membuat perintah untuk menghentikan perulangan\n",
    "    # Jika perulangan bernilai 0 maka akan dijalankan terus menerus , tapi jika 1 dan perulangan = s ,\n",
    "    # maka perulangan akan break/berhenti\n",
    "    # Membuat variabel K\n",
    "    k = cv.waitKey(1) & 0xFF\n",
    "    if  k == 27 or k== ord('s'):\n",
    "        break\n",
    "# Setelah perulangan di hentikan, perintah release\n",
    "# release ini berguna untuk memori terjaga\n",
    "cam.release()\n",
    "\n",
    "# membuat destroy menghapus memori pada leptop\n",
    "cv.destroyAllWindows()\n"
   ]
  },
  {
   "cell_type": "code",
   "execution_count": null,
   "id": "5de81b72",
   "metadata": {},
   "outputs": [],
   "source": []
  }
 ],
 "metadata": {
  "kernelspec": {
   "display_name": "Python 3 (ipykernel)",
   "language": "python",
   "name": "python3"
  },
  "language_info": {
   "codemirror_mode": {
    "name": "ipython",
    "version": 3
   },
   "file_extension": ".py",
   "mimetype": "text/x-python",
   "name": "python",
   "nbconvert_exporter": "python",
   "pygments_lexer": "ipython3",
   "version": "3.8.11"
  }
 },
 "nbformat": 4,
 "nbformat_minor": 5
}
